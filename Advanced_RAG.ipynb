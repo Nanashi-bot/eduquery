{
  "nbformat": 4,
  "nbformat_minor": 0,
  "metadata": {
    "colab": {
      "provenance": [],
      "include_colab_link": true
    },
    "kernelspec": {
      "name": "python3",
      "display_name": "Python 3"
    },
    "language_info": {
      "name": "python"
    }
  },
  "cells": [
    {
      "cell_type": "markdown",
      "metadata": {
        "id": "view-in-github",
        "colab_type": "text"
      },
      "source": [
        "<a href=\"https://colab.research.google.com/github/Nanashi-bot/eduquery/blob/main/Advanced_RAG.ipynb\" target=\"_parent\"><img src=\"https://colab.research.google.com/assets/colab-badge.svg\" alt=\"Open In Colab\"/></a>"
      ]
    },
    {
      "cell_type": "markdown",
      "source": [
        "## Chat with eBook\n",
        "### Installation"
      ],
      "metadata": {
        "id": "MRp3eL6WxBVk"
      }
    },
    {
      "cell_type": "code",
      "execution_count": null,
      "metadata": {
        "id": "x0HMFxS3wxCh"
      },
      "outputs": [],
      "source": [
        "!pip install langchain sentence-transformers chromadb pypdf unstructured pdf2image"
      ]
    },
    {
      "cell_type": "code",
      "source": [
        "!pip install unstructured['pdf']"
      ],
      "metadata": {
        "id": "iLexJk-ipaa2"
      },
      "execution_count": null,
      "outputs": []
    },
    {
      "cell_type": "code",
      "source": [
        "from langchain.document_loaders import UnstructuredPDFLoader\n",
        "from langchain.text_splitter import RecursiveCharacterTextSplitter\n",
        "from langchain.embeddings import HuggingFaceInferenceAPIEmbeddings\n",
        "from langchain.vectorstores import Chroma\n",
        "\n",
        "from langchain.llms import HuggingFaceHub\n",
        "from langchain.chains import RetrievalQA\n",
        "from langchain.storage import InMemoryStore\n",
        "from langchain.retrievers import ParentDocumentRetriever"
      ],
      "metadata": {
        "id": "jUhQa3K5xWLB"
      },
      "execution_count": null,
      "outputs": []
    },
    {
      "cell_type": "code",
      "source": [
        "import os\n",
        "from getpass import getpass\n",
        "\n",
        "HF_token = getpass()"
      ],
      "metadata": {
        "colab": {
          "base_uri": "https://localhost:8080/"
        },
        "id": "wqxrqhml0Jzb",
        "outputId": "835edad2-f69d-47a7-f4ec-01bad789f24c"
      },
      "execution_count": null,
      "outputs": [
        {
          "name": "stdout",
          "output_type": "stream",
          "text": [
            "··········\n"
          ]
        }
      ]
    },
    {
      "cell_type": "code",
      "source": [
        "os.environ['HUGGINGFACEHUB_API_TOKEN'] = HF_token"
      ],
      "metadata": {
        "id": "_5MCIBmp01v3"
      },
      "execution_count": null,
      "outputs": []
    },
    {
      "cell_type": "code",
      "source": [
        "file_path = \"TarunJain_Resume.pdf\""
      ],
      "metadata": {
        "id": "7yMI-P5m0-rN"
      },
      "execution_count": null,
      "outputs": []
    },
    {
      "cell_type": "code",
      "source": [
        "data = UnstructuredPDFLoader(file_path)"
      ],
      "metadata": {
        "id": "zd9FgoHn1GD1"
      },
      "execution_count": null,
      "outputs": []
    },
    {
      "cell_type": "code",
      "source": [
        "content = data.load()"
      ],
      "metadata": {
        "id": "U9bWC0Wn1KGp"
      },
      "execution_count": null,
      "outputs": []
    },
    {
      "cell_type": "code",
      "source": [
        "print(content)"
      ],
      "metadata": {
        "colab": {
          "base_uri": "https://localhost:8080/"
        },
        "id": "UGjSLYB91OD0",
        "outputId": "35da02cb-fdeb-4397-c073-2039d0967904"
      },
      "execution_count": null,
      "outputs": [
        {
          "output_type": "stream",
          "name": "stdout",
          "text": [
            "[Document(page_content='Tarun R Jain\\n\\nlinkedin.com/in/jaintarun75/ | tarunjain.netlify.app/ | +919986197355 | jain.tarun7501@gmail.com\\n\\nWORK EXPERIENCE AI Planet\\n\\nBelgium\\n\\nDeveloper Relations and Community Manager\\n\\nApril 2023- Present\\n\\nIn this startup, I wear multiple hats by being part of the Data Science team and handling the community. I have worked on Fine Tuning LLMs, building Consultant POC to migrate the enterprise and business into AI, and deploying 6+ state-of-the-art models on AI Planet’s AI Marketplace.\\n\\nI have organized 20+ live sessions with experts from Google, Weights & Biases, Intel, and more. ● Furthermore, I am the lead curriculum contributor to the LLM Bootcamp, where I reached out to 11 speakers and led a group of 8 AI Ambassadors for the AI Changemaker program. I also feel proud that LLM Bootcamp had 2300+ registrations including Students and working professionals.\\n\\nI built Panda Coder 13B, a state-of-the-art LLM, a fine-tuned model, specifically designed to generate\\n\\ncode based on natural language instructions., with a total download of 7500+.\\n\\nI am the core maintainer at GenAI Stack, an end-to-end LLM framework built above Langchain and\\n\\nLLamaIndex, I am also responsible for writing release blog articles.\\n\\ncaMicroscope\\n\\nRemote\\n\\nGoogle Summer of Code 2023 Open Source Contributor\\n\\nMay 2023-Sept 2023\\n\\nWorked on an entirely new project during my Google Summer of Code contribution phase in the\\n\\nhealthcare domain.\\n\\nDuring GSoC23, I implemented a novel architecture to convert Hyperspectral or multi-channel imaging\\n\\ninto an RGB channel.\\n\\nFurthermore, once the conversion is done,\\n\\nthis algorithm is implemented on the browser via OpenSeaDragon and DeepZoomImage, for researchers and doctors to visualize the small part of the file from the large medical images.\\n\\nEDUCATION Cambridge Institute of Technology\\n\\nBangalore\\n\\nBachelor in Electronics and Communication Engineering\\n\\n2019-2023\\n\\nACADEMIC PROJECTS Book Friend - Education to All\\n\\n[Portfolio of All my projects]\\n\\n[Aug 2023]- Source Code\\n\\nMy inspiration behind this project is to make education accessible and fun for everyone by making it\\n\\nmore creative. I integrated 4 feature\\n\\nAI Enable Recruitment App\\n\\n[Dec 2022]- Source Code\\n\\nWe developed an AI-enabled recruitment Web App that ranked 800+ resumes based on skills using NLP techniques such as Yake, TFIDF, and Cosine similarity, resulting in an accurate resume screening system that saves recruiters time and resources.\\n\\nACHIEVEMENTS & PARTICIPATION\\n\\nGoogle Developer Expert in Machine Learning ● Entrepreneurship Training at CHOSS- Cambridge House of Student Startup. ● An active participant in the HuggingFace Keras working group. ● Deep Learning AI Event Ambassador in Bangalore Region.\\n\\n[Certifications] [Oct 2023-] [May 2022- Mar 2023] [Sept 2022- Jan 2023] [Oct 2022- present]', metadata={'source': 'TarunJain_Resume.pdf'})]\n"
          ]
        }
      ]
    },
    {
      "cell_type": "code",
      "source": [
        "len(content[0].page_content)"
      ],
      "metadata": {
        "colab": {
          "base_uri": "https://localhost:8080/"
        },
        "id": "uVmkOx1DaFab",
        "outputId": "ed9ff943-bbbd-4497-a786-ff3b7b19dbbb"
      },
      "execution_count": null,
      "outputs": [
        {
          "output_type": "execute_result",
          "data": {
            "text/plain": [
              "2808"
            ]
          },
          "metadata": {},
          "execution_count": 24
        }
      ]
    },
    {
      "cell_type": "markdown",
      "source": [
        "## Chunking- Text Splitter"
      ],
      "metadata": {
        "id": "sR6XA8CP1aRq"
      }
    },
    {
      "cell_type": "code",
      "source": [
        "parent_splitter = RecursiveCharacterTextSplitter(chunk_size=512,chunk_overlap=0)\n",
        "child_splitter = RecursiveCharacterTextSplitter(chunk_size=100,chunk_overlap=0)"
      ],
      "metadata": {
        "id": "Pp5pY9gd1ZK5"
      },
      "execution_count": null,
      "outputs": []
    },
    {
      "cell_type": "markdown",
      "source": [
        "## Embedding Model"
      ],
      "metadata": {
        "id": "yyJOUAes2SKp"
      }
    },
    {
      "cell_type": "code",
      "source": [
        "embeddings = HuggingFaceInferenceAPIEmbeddings(\n",
        "    api_key = HF_token,model_name = \"thenlper/gte-large\"\n",
        ")"
      ],
      "metadata": {
        "id": "4na79dRs2TyQ"
      },
      "execution_count": null,
      "outputs": []
    },
    {
      "cell_type": "code",
      "source": [
        "vectorstore = Chroma(embedding_function=embeddings)\n",
        "store = InMemoryStore()"
      ],
      "metadata": {
        "id": "C9gzouq62lRq"
      },
      "execution_count": null,
      "outputs": []
    },
    {
      "cell_type": "code",
      "source": [
        "model = HuggingFaceHub(repo_id=\"HuggingFaceH4/zephyr-7b-alpha\",\n",
        "                       model_kwargs={\"temperature\":0.5,\"max_new_tokens\":512,\"max_length\":64})"
      ],
      "metadata": {
        "id": "Nnu0G8dx2x0c"
      },
      "execution_count": null,
      "outputs": []
    },
    {
      "cell_type": "code",
      "source": [
        "retriever = ParentDocumentRetriever(\n",
        "    vectorstore=vectorstore,\n",
        "    docstore=store,\n",
        "    child_splitter=child_splitter,\n",
        "    parent_splitter=parent_splitter,\n",
        ")"
      ],
      "metadata": {
        "id": "VNFQ2-JJrytr"
      },
      "execution_count": null,
      "outputs": []
    },
    {
      "cell_type": "code",
      "source": [
        "retriever.add_documents(content,ids=None)"
      ],
      "metadata": {
        "id": "DzE7_fXdrywQ"
      },
      "execution_count": null,
      "outputs": []
    },
    {
      "cell_type": "code",
      "source": [
        "query = \"What is Tarun's contribution at AI Planet?\""
      ],
      "metadata": {
        "id": "qoQSkaP02Kp3"
      },
      "execution_count": null,
      "outputs": []
    },
    {
      "cell_type": "code",
      "source": [
        "relevant_context = retriever.get_relevant_documents(query)"
      ],
      "metadata": {
        "id": "dbjxXt-42Ksm"
      },
      "execution_count": null,
      "outputs": []
    },
    {
      "cell_type": "code",
      "source": [
        "relevant_context"
      ],
      "metadata": {
        "colab": {
          "base_uri": "https://localhost:8080/"
        },
        "id": "yQ0ikrIAeZ14",
        "outputId": "cd0c70cd-fb83-42a5-ca16-0dfa00750bb6"
      },
      "execution_count": null,
      "outputs": [
        {
          "output_type": "execute_result",
          "data": {
            "text/plain": [
              "[Document(page_content='Tarun R Jain\\n\\nlinkedin.com/in/jaintarun75/ | tarunjain.netlify.app/ | +919986197355 | jain.tarun7501@gmail.com\\n\\nWORK EXPERIENCE AI Planet\\n\\nBelgium\\n\\nDeveloper Relations and Community Manager\\n\\nApril 2023- Present\\n\\nIn this startup, I wear multiple hats by being part of the Data Science team and handling the community. I have worked on Fine Tuning LLMs, building Consultant POC to migrate the enterprise and business into AI, and deploying 6+ state-of-the-art models on AI Planet’s AI Marketplace.', metadata={'source': 'TarunJain_Resume.pdf'})]"
            ]
          },
          "metadata": {},
          "execution_count": 71
        }
      ]
    },
    {
      "cell_type": "code",
      "source": [
        "relevant_context"
      ],
      "metadata": {
        "colab": {
          "base_uri": "https://localhost:8080/"
        },
        "id": "G3jzdX6Vdiep",
        "outputId": "c926a276-c62e-4a0a-d5b9-7d32028a3425"
      },
      "execution_count": null,
      "outputs": [
        {
          "output_type": "execute_result",
          "data": {
            "text/plain": [
              "[Document(page_content='Tarun R Jain\\n\\nlinkedin.com/in/jaintarun75/ | tarunjain.netlify.app/ | +919986197355 | jain.tarun7501@gmail.com\\n\\nWORK EXPERIENCE AI Planet\\n\\nBelgium\\n\\nDeveloper Relations and Community Manager\\n\\nApril 2023- Present\\n\\nIn this startup, I wear multiple hats by being part of the Data Science team and handling the community. I have worked on Fine Tuning LLMs, building Consultant POC to migrate the enterprise and business into AI, and deploying 6+ state-of-the-art models on AI Planet’s AI Marketplace.', metadata={'source': 'TarunJain_Resume.pdf'})]"
            ]
          },
          "metadata": {},
          "execution_count": 45
        }
      ]
    },
    {
      "cell_type": "code",
      "source": [
        "query = \"Who is Rahul?\""
      ],
      "metadata": {
        "id": "Ql8c_iFodijQ"
      },
      "execution_count": null,
      "outputs": []
    },
    {
      "cell_type": "code",
      "source": [
        "relevant_context = retriever.get_relevant_documents(query)"
      ],
      "metadata": {
        "id": "1LoBJBAOdoa4"
      },
      "execution_count": null,
      "outputs": []
    },
    {
      "cell_type": "code",
      "source": [
        "relevant_context"
      ],
      "metadata": {
        "colab": {
          "base_uri": "https://localhost:8080/"
        },
        "id": "caUHB9p8docy",
        "outputId": "f5b0afd5-e43b-4b94-8743-af6b09bec4dd"
      },
      "execution_count": null,
      "outputs": [
        {
          "output_type": "execute_result",
          "data": {
            "text/plain": [
              "[Document(page_content='Google Developer Expert in Machine Learning ● Entrepreneurship Training at CHOSS- Cambridge House of Student Startup. ● An active participant in the HuggingFace Keras working group. ● Deep Learning AI Event Ambassador in Bangalore Region.\\n\\n[Certifications] [Oct 2023-] [May 2022- Mar 2023] [Sept 2022- Jan 2023] [Oct 2022- present]', metadata={'source': 'TarunJain_Resume.pdf'})]"
            ]
          },
          "metadata": {},
          "execution_count": 74
        }
      ]
    },
    {
      "cell_type": "code",
      "source": [
        "# !pip install cohere"
      ],
      "metadata": {
        "id": "Kg3ft5MDdyYx"
      },
      "execution_count": null,
      "outputs": []
    },
    {
      "cell_type": "markdown",
      "source": [
        "## Step-1 Retrieval"
      ],
      "metadata": {
        "id": "cBJK03bFlPYB"
      }
    },
    {
      "cell_type": "code",
      "source": [
        "# os.environ[\"COHERE_API_KEY\"] = \"5uuX8mk9dhf9KHzw7vSDhQdXlV2x92MzELvJ972T\""
      ],
      "metadata": {
        "id": "2tdp6NitetcP"
      },
      "execution_count": null,
      "outputs": []
    },
    {
      "cell_type": "code",
      "source": [
        "# from langchain.retrievers import ContextualCompressionRetriever\n",
        "# from langchain.retrievers.document_compressors import CohereRerank"
      ],
      "metadata": {
        "id": "ZKeCsvuEhd8n"
      },
      "execution_count": null,
      "outputs": []
    },
    {
      "cell_type": "code",
      "source": [
        "# from cohere import Client"
      ],
      "metadata": {
        "id": "R840R1tYiwjR"
      },
      "execution_count": null,
      "outputs": []
    },
    {
      "cell_type": "code",
      "source": [
        "# co = Client(api_key = \"5uuX8mk9dhf9KHzw7vSDhQdXlV2x92MzELvJ972T\")"
      ],
      "metadata": {
        "id": "IiGXuxKli5D5"
      },
      "execution_count": null,
      "outputs": []
    },
    {
      "cell_type": "code",
      "source": [
        "# from typing import ForwardRef\n",
        "# from pydantic import BaseModel\n",
        "\n",
        "# class CustomCohereRerank(CohereRerank):\n",
        "  # class Config(BaseModel.Config):\n",
        "    # arbitrary_types_allowed = True\n",
        "\n",
        "# CustomCohereRerank.update_forward_refs()"
      ],
      "metadata": {
        "id": "CM4n_Gc1jD6z"
      },
      "execution_count": null,
      "outputs": []
    },
    {
      "cell_type": "code",
      "source": [
        "# compressor = CustomCohereRerank(client=co)"
      ],
      "metadata": {
        "id": "1jcjuTSAhoxr"
      },
      "execution_count": null,
      "outputs": []
    },
    {
      "cell_type": "code",
      "source": [
        "# compression_retriever = ContextualCompressionRetriever(\n",
        "    # base_compressor=compressor, base_retriever=retriever\n",
        "# )"
      ],
      "metadata": {
        "id": "btAqdGZTheAU"
      },
      "execution_count": null,
      "outputs": []
    },
    {
      "cell_type": "markdown",
      "source": [
        "## Step - 2 Augment"
      ],
      "metadata": {
        "id": "_q4YJ_G8lJ4r"
      }
    },
    {
      "cell_type": "code",
      "source": [
        "from langchain_core.prompts import ChatPromptTemplate"
      ],
      "metadata": {
        "id": "CgYVFFL1kqou"
      },
      "execution_count": null,
      "outputs": []
    },
    {
      "cell_type": "code",
      "source": [
        "template = \"\"\"\n",
        "<|system|>>\n",
        "You are an AI Assistant that follows instructions extremely well.\n",
        "Please be truthful and give direct answers. Please tell 'I don't know' if user query is not in CONTEXT\n",
        "\n",
        "CONTEXT: {context}\n",
        "</s>\n",
        "<|user|>\n",
        "{query}\n",
        "</s>\n",
        "<|assistant|>\n",
        "\"\"\""
      ],
      "metadata": {
        "id": "1U9KA37W4yjf"
      },
      "execution_count": null,
      "outputs": []
    },
    {
      "cell_type": "code",
      "source": [
        "prompt = ChatPromptTemplate.from_template(template)"
      ],
      "metadata": {
        "id": "WDkCjEcTkqLO"
      },
      "execution_count": null,
      "outputs": []
    },
    {
      "cell_type": "markdown",
      "source": [
        "## Step-3 Generation"
      ],
      "metadata": {
        "id": "Mk0Km6jO4sJw"
      }
    },
    {
      "cell_type": "code",
      "source": [
        "from langchain_core.output_parsers import StrOutputParser"
      ],
      "metadata": {
        "id": "0fhcy_KlkYEe"
      },
      "execution_count": null,
      "outputs": []
    },
    {
      "cell_type": "code",
      "source": [
        "from langchain_core.runnables import RunnablePassthrough"
      ],
      "metadata": {
        "id": "rDpth0wTkms5"
      },
      "execution_count": null,
      "outputs": []
    },
    {
      "cell_type": "code",
      "source": [
        "output_parser = StrOutputParser()"
      ],
      "metadata": {
        "id": "IxnclNJ8k3tL"
      },
      "execution_count": null,
      "outputs": []
    },
    {
      "cell_type": "code",
      "source": [
        "chain = (\n",
        "    {\"context\": retriever, \"query\": RunnablePassthrough()}\n",
        "    | prompt\n",
        "    | model\n",
        "    | output_parser\n",
        ")"
      ],
      "metadata": {
        "id": "mUGKQyG_kn0O"
      },
      "execution_count": null,
      "outputs": []
    },
    {
      "cell_type": "code",
      "source": [
        "query = \"Who is Rahul?\""
      ],
      "metadata": {
        "id": "wNFH95K2lUY3"
      },
      "execution_count": null,
      "outputs": []
    },
    {
      "cell_type": "code",
      "source": [
        "response = chain.invoke(query)"
      ],
      "metadata": {
        "id": "XcJEurHfk5xM"
      },
      "execution_count": null,
      "outputs": []
    },
    {
      "cell_type": "code",
      "source": [
        "print(response)"
      ],
      "metadata": {
        "colab": {
          "base_uri": "https://localhost:8080/"
        },
        "id": "m6X58EFrk703",
        "outputId": "7d840433-c8b4-4941-9a1c-29a58bf15c16"
      },
      "execution_count": null,
      "outputs": [
        {
          "output_type": "stream",
          "name": "stdout",
          "text": [
            "I do not have information about a specific person named rahul. please provide more context or information about rahul to help me identify who you are referring to.\n"
          ]
        }
      ]
    },
    {
      "cell_type": "code",
      "source": [
        "print(chain.invoke(\"what is Tarun's role at AI Planet?\"))"
      ],
      "metadata": {
        "colab": {
          "base_uri": "https://localhost:8080/"
        },
        "id": "-VTZErjXlbH4",
        "outputId": "caf1ad1e-4a5f-4bec-a0f8-f2907a423f0d"
      },
      "execution_count": null,
      "outputs": [
        {
          "output_type": "stream",
          "name": "stdout",
          "text": [
            "Tarun's role at AI Planet is \"Developer Relations and Community Manager.\" (from the provided context)\n"
          ]
        }
      ]
    }
  ]
}